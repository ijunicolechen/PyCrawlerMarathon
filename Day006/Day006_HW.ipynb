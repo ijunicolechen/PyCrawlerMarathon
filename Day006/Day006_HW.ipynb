{
 "cells": [
  {
   "cell_type": "code",
   "execution_count": 57,
   "metadata": {},
   "outputs": [
    {
     "name": "stdout",
     "output_type": "stream",
     "text": [
      "2017-02-06 06:10:29\n"
     ]
    }
   ],
   "source": [
    "# 1. 取出知乎問題發問時間\n",
    "\n",
    "from datetime import datetime\n",
    "import requests, json\n",
    "\n",
    "headers = {'user-agent': 'my-app/0.0.1'}\n",
    "zhihuPost = requests.get('https://www.zhihu.com/api/v4/questions/55493026/answers',headers=headers)\n",
    "\n",
    "response = zhihuPost.text\n",
    "responseData = json.loads(response)\n",
    "\n",
    "createTime = responseData['data'][0]['question']['created']\n",
    "print(datetime.fromtimestamp(createTime))"
   ]
  },
  {
   "cell_type": "code",
   "execution_count": 63,
   "metadata": {},
   "outputs": [
    {
     "name": "stdout",
     "output_type": "stream",
     "text": [
      "2019-03-31 19:17:08\n",
      "2019-10-28 20:07:06\n"
     ]
    }
   ],
   "source": [
    "# 2. 取出第一筆與最後一筆回答的時間\n",
    "first_answer_time = responseData['data'][0]['created_time']\n",
    "print(datetime.fromtimestamp(first_answer_time))\n",
    "latest_answer_time = responseData['data'][-1]['created_time']\n",
    "print(datetime.fromtimestamp(latest_answer_time))"
   ]
  },
  {
   "cell_type": "code",
   "execution_count": null,
   "metadata": {},
   "outputs": [],
   "source": []
  }
 ],
 "metadata": {
  "kernelspec": {
   "display_name": "Python 3",
   "language": "python",
   "name": "python3"
  },
  "language_info": {
   "codemirror_mode": {
    "name": "ipython",
    "version": 3
   },
   "file_extension": ".py",
   "mimetype": "text/x-python",
   "name": "python",
   "nbconvert_exporter": "python",
   "pygments_lexer": "ipython3",
   "version": "3.7.7"
  }
 },
 "nbformat": 4,
 "nbformat_minor": 4
}
