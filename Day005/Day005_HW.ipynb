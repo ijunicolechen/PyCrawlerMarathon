{
 "cells": [
  {
   "cell_type": "code",
   "execution_count": 26,
   "metadata": {},
   "outputs": [
    {
     "name": "stdout",
     "output_type": "stream",
     "text": [
      "這個API一次會回傳30筆資料. 每一筆資料包含：['id', 'title', 'excerpt', 'anonymousSchool', 'anonymousDepartment', 'pinned', 'forumId', 'replyId', 'createdAt', 'updatedAt', 'commentCount', 'likeCount', 'withNickname', 'tags', 'topics', 'meta', 'forumName', 'forumAlias', 'nsfw', 'gender', 'school', 'department', 'replyTitle', 'mediaMeta', 'reactions', 'hidden', 'customStyle', 'isSuspiciousAccount', 'layout', 'withImages', 'withVideos', 'media', 'reportReasonText', 'postAvatar']\n"
     ]
    }
   ],
   "source": [
    "# 1. 這個 API 一次會回傳幾筆資料？每一筆資料包含哪些欄位？\n",
    "\n",
    "import requests, json\n",
    "\n",
    "hotPost = requests.get(\"https://www.dcard.tw/_api/forums/pet/posts?popular=true\")\n",
    "normalPost = requests.get(\"https://www.dcard.tw/_api/forums/pet/posts?popular=false\")\n",
    "\n",
    "hotPosts = json.loads(hotPost.text)\n",
    "normalPosts = json.loads(normalPost.text)\n",
    "\n",
    "totalHotPosts = len(hotPosts)\n",
    "totalNormalPosts = len(normalPosts)\n",
    "\n",
    "columnEach = []\n",
    "\n",
    "for column in hotPosts[0].keys():\n",
    "    columnEach.append(column)\n",
    "\n",
    "print(\"這個API一次會回傳{}筆資料. 每一筆資料包含：{}\".format(totalPosts,columnEach))    "
   ]
  },
  {
   "cell_type": "code",
   "execution_count": 27,
   "metadata": {},
   "outputs": [
    {
     "name": "stdout",
     "output_type": "stream",
     "text": [
      "標題:三分鐘。發福膨脹的貓😂, 貼文時間:2020-08-12T05:32:56.551Z, 留言人數:11, 按讚人數:758\n",
      "標題:#急 虎皮鸚鵡飛到湯裡面怎麼辦, 貼文時間:2020-08-11T13:21:47.794Z, 留言人數:28, 按讚人數:214\n",
      "標題:最討厭蘋果汁的貓 #影片, 貼文時間:2020-08-12T03:11:50.374Z, 留言人數:2, 按讚人數:187\n",
      "標題:令人融化的黃金獵犬吃飯飯, 貼文時間:2020-08-11T17:12:32.637Z, 留言人數:6, 按讚人數:21\n",
      "標題:會動的偽娃娃...？, 貼文時間:2020-08-12T09:53:43.864Z, 留言人數:2, 按讚人數:17\n",
      "標題:#代協尋#母赤柴#台中大里, 貼文時間:2020-08-11T13:50:55.799Z, 留言人數:0, 按讚人數:12\n",
      "標題:我家小笨柴的日常, 貼文時間:2020-08-12T15:54:38.542Z, 留言人數:0, 按讚人數:9\n",
      "標題:#圖 #睡鼠 拇指松鼠, 貼文時間:2020-08-12T09:05:12.583Z, 留言人數:12, 按讚人數:9\n",
      "標題:我的倉鼠跑去代言了？！, 貼文時間:2020-08-12T07:51:02.219Z, 留言人數:0, 按讚人數:9\n",
      "標題:美白淡化後的暹羅, 貼文時間:2020-08-12T14:49:56.931Z, 留言人數:3, 按讚人數:8\n",
      "標題:#送養文 #兔子, 貼文時間:2020-08-12T10:19:21.183Z, 留言人數:5, 按讚人數:6\n",
      "標題:#分享 菜市場名麻糬的膨脹（圖多, 貼文時間:2020-08-12T13:39:47.953Z, 留言人數:1, 按讚人數:5\n",
      "標題:誘捕回來的流浪貓不親人要原放嗎, 貼文時間:2020-08-12T10:58:18.454Z, 留言人數:21, 按讚人數:5\n",
      "標題:這裡有白貓控嗎～～～, 貼文時間:2020-08-12T07:39:32.033Z, 留言人數:0, 按讚人數:4\n",
      "標題:Hello! 我是露卡Luka🐶：調皮搗蛋鬼😈, 貼文時間:2020-08-12T03:50:10.725Z, 留言人數:2, 按讚人數:4\n",
      "標題:新手請益/極火蝦🦐捲腹, 貼文時間:2020-08-11T15:31:40.611Z, 留言人數:4, 按讚人數:4\n",
      "標題:#守宮 手拙的裝扮, 貼文時間:2020-08-12T15:32:24.681Z, 留言人數:1, 按讚人數:3\n",
      "標題:分享可愛貓咪🐱, 貼文時間:2020-08-12T14:15:59.165Z, 留言人數:0, 按讚人數:3\n",
      "標題:在停車場看到被遺棄的狗, 貼文時間:2020-08-12T12:46:52.627Z, 留言人數:1, 按讚人數:3\n",
      "標題:#圖多 #布偶貓 喵董！一起睡嘛٩̋(ˊ•͈ ꇴ •͈ˋ)و, 貼文時間:2020-08-12T12:19:32.340Z, 留言人數:0, 按讚人數:3\n",
      "標題:一個半月的柴, 貼文時間:2020-08-12T11:55:06.726Z, 留言人數:0, 按讚人數:3\n",
      "標題:想問一些有關倉鼠的問題！, 貼文時間:2020-08-12T10:29:07.694Z, 留言人數:1, 按讚人數:3\n",
      "標題:貓貓vs.指尖陀螺, 貼文時間:2020-08-12T01:52:55.729Z, 留言人數:0, 按讚人數:3\n",
      "標題:簡單粗暴的標題：曬鼠, 貼文時間:2020-08-13T00:28:25.417Z, 留言人數:0, 按讚人數:2\n",
      "標題:求解！我家的貓到底嗑了什麼, 貼文時間:2020-08-12T15:11:04.708Z, 留言人數:0, 按讚人數:2\n",
      "標題:兔子, 貼文時間:2020-08-12T07:52:00.083Z, 留言人數:2, 按讚人數:2\n",
      "標題:我的小鳥開始咬羽毛, 貼文時間:2020-08-12T02:33:49.881Z, 留言人數:4, 按讚人數:2\n",
      "標題:倉鼠吃冰飼料, 貼文時間:2020-08-11T16:47:15.001Z, 留言人數:1, 按讚人數:2\n",
      "標題:黑貓超可愛, 貼文時間:2020-08-12T18:23:13.079Z, 留言人數:1, 按讚人數:1\n",
      "標題:曼斥肯, 貼文時間:2020-08-12T16:48:51.075Z, 留言人數:0, 按讚人數:1\n"
     ]
    }
   ],
   "source": [
    "# 2. 取出每一筆資料的「標題」(title)、「貼文時間」(createdAt)、「留言人數」(commentCount)、「按讚人數」(likeCount)\n",
    "\n",
    "for data in hotPosts:\n",
    "    print(\"標題:{}, 貼文時間:{}, 留言人數:{}, 按讚人數:{}\".format(data.get(\"title\"),data.get(\"createdAt\"),data.get(\"commentCount\"),data.get(\"likeCount\")))\n",
    "   \n"
   ]
  },
  {
   "cell_type": "code",
   "execution_count": 29,
   "metadata": {},
   "outputs": [
    {
     "name": "stdout",
     "output_type": "stream",
     "text": [
      "熱門文章的「平均留言人數」:3, 「平均按讚人數」:43\n",
      "非熱門文章的「平均留言人數」:28, 「平均按讚人數」:28\n"
     ]
    }
   ],
   "source": [
    "# 3. 計算熱門/非熱門文章的「平均留言人數」與「平均按讚人數」\n",
    "\n",
    "hotCommentCount = 0\n",
    "hotLikeCount = 0\n",
    "normalCommentCount = 0\n",
    "normalLikeCount = 0\n",
    "\n",
    "for count in hotPosts:\n",
    "    hotCommentCount +=count.get(\"commentCount\")\n",
    "    hotLikeCount +=count.get(\"likeCount\")\n",
    "\n",
    "for count in normalPosts:\n",
    "    normalCommentCount +=count.get(\"commentCount\")\n",
    "    normalLikeCount +=count.get(\"likeCount\")\n",
    "\n",
    "averageHotCommentCount = int(hotCommentCount / totalHotPosts)\n",
    "averageHotLikeCount = int(hotLikeCount / totalHotPosts)\n",
    "averageNormalCommentCount = int(normalCommentCount / totalNormalPosts)\n",
    "averageNormalCommentCount = int(normalLikeCount / totalNormalPosts)\n",
    "\n",
    "print(\"熱門文章的「平均留言人數」:{}, 「平均按讚人數」:{}\".format(averageHotCommentCount,averageHotLikeCount))\n",
    "print(\"非熱門文章的「平均留言人數」:{}, 「平均按讚人數」:{}\".format(averageNormalCommentCount,averageNormalCommentCount))"
   ]
  },
  {
   "cell_type": "code",
   "execution_count": null,
   "metadata": {},
   "outputs": [],
   "source": []
  }
 ],
 "metadata": {
  "kernelspec": {
   "display_name": "Python 3",
   "language": "python",
   "name": "python3"
  },
  "language_info": {
   "codemirror_mode": {
    "name": "ipython",
    "version": 3
   },
   "file_extension": ".py",
   "mimetype": "text/x-python",
   "name": "python",
   "nbconvert_exporter": "python",
   "pygments_lexer": "ipython3",
   "version": "3.7.7"
  }
 },
 "nbformat": 4,
 "nbformat_minor": 4
}
