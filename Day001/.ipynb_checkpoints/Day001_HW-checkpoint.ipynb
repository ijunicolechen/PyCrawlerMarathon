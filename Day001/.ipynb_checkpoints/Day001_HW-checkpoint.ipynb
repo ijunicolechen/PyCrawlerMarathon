{
 "cells": [
  {
   "cell_type": "markdown",
   "metadata": {},
   "source": []
  },
  {
   "cell_type": "code",
   "execution_count": 17,
   "metadata": {},
   "outputs": [],
   "source": [
    "# Download ulretrieve and os library\n",
    "from urllib.request import urlretrieve\n",
    "import os"
   ]
  },
  {
   "cell_type": "code",
   "execution_count": 18,
   "metadata": {},
   "outputs": [
    {
     "name": "stdout",
     "output_type": "stream",
     "text": [
      "Success\n"
     ]
    }
   ],
   "source": [
    "# Check if the Data folder exists\n",
    "try:\n",
    "    os.makedirs('./Data',exist_ok=True)\n",
    "    urlretrieve (\"https://www.w3.org/TR/PNG/iso_8859-1.txt\", \"./Data/Homework.txt\")\n",
    "    print(\"Success\")\n",
    "except:\n",
    "    print(\"Error\")"
   ]
  },
  {
   "cell_type": "code",
   "execution_count": 19,
   "metadata": {},
   "outputs": [
    {
     "name": "stdout",
     "output_type": "stream",
     "text": [
      "Homework exists!\n"
     ]
    }
   ],
   "source": [
    "# Check if the Homework.txt exists in the Data folder\n",
    "if os.path.isdir('./Data'):\n",
    "    if os.path.isfile('./Data/Homework.txt'):\n",
    "        print(\"Homework exists!\")\n",
    "    else:\n",
    "        print(\"File does not exist!\")\n",
    "else:\n",
    "    print(\"Data doest not exist!\")"
   ]
  },
  {
   "cell_type": "code",
   "execution_count": 20,
   "metadata": {},
   "outputs": [
    {
     "name": "stdout",
     "output_type": "stream",
     "text": [
      "Hello World\n"
     ]
    }
   ],
   "source": [
    "# Rewrite the document with only Hello World and print out\n",
    "f='Hello World'\n",
    "path='./Data/Homework.txt'\n",
    "with open(path,\"w\") as fw:\n",
    "    fw.write(f);\n",
    "try:\n",
    "    with open(path,\"r\") as fr:\n",
    "        print(fr.readline())\n",
    "except EvironmentError:\n",
    "    pass"
   ]
  },
  {
   "cell_type": "code",
   "execution_count": 15,
   "metadata": {},
   "outputs": [
    {
     "name": "stdout",
     "output_type": "stream",
     "text": [
      "Equal!\n"
     ]
    }
   ],
   "source": [
    "# Check if the length is same as \"Hello World\"\n",
    "with open(path,\"r\") as fr:\n",
    "    if len(fr.readline()) == len(f):\n",
    "        print(\"Equal!\")\n",
    "    else:\n",
    "        print(\"The lengths are not the same.\")"
   ]
  },
  {
   "cell_type": "code",
   "execution_count": null,
   "metadata": {},
   "outputs": [],
   "source": []
  }
 ],
 "metadata": {
  "kernelspec": {
   "display_name": "Python 3",
   "language": "python",
   "name": "python3"
  },
  "language_info": {
   "codemirror_mode": {
    "name": "ipython",
    "version": 3
   },
   "file_extension": ".py",
   "mimetype": "text/x-python",
   "name": "python",
   "nbconvert_exporter": "python",
   "pygments_lexer": "ipython3",
   "version": "3.7.6"
  }
 },
 "nbformat": 4,
 "nbformat_minor": 4
}
